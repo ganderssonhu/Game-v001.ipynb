{
  "nbformat": 4,
  "nbformat_minor": 0,
  "metadata": {
    "colab": {
      "provenance": [],
      "authorship_tag": "ABX9TyNtEuW1ihaLT/0UggSeUNEG",
      "include_colab_link": true
    },
    "kernelspec": {
      "name": "python3",
      "display_name": "Python 3"
    },
    "language_info": {
      "name": "python"
    }
  },
  "cells": [
    {
      "cell_type": "markdown",
      "metadata": {
        "id": "view-in-github",
        "colab_type": "text"
      },
      "source": [
        "<a href=\"https://colab.research.google.com/github/ganderssonhu/Game-v001.ipynb/blob/main/Game_v001.ipynb\" target=\"_parent\"><img src=\"https://colab.research.google.com/assets/colab-badge.svg\" alt=\"Open In Colab\"/></a>"
      ]
    },
    {
      "cell_type": "code",
      "source": [
        "import random, hashlib\n",
        "import time\n",
        "\n",
        "# Utility: seed from your student ID\n",
        "def seed_from_id(sid: str):\n",
        "    h = int(hashlib.md5(sid.encode()).hexdigest(), 16)\n",
        "    random.seed(h)\n",
        "\n",
        "# Character class\n",
        "class Fighter:\n",
        "    def __init__(self, name, hp, atk, heal_power, special_power):\n",
        "        self.name = name\n",
        "        self.max_hp = hp\n",
        "        self.hp = hp\n",
        "        self.atk = atk\n",
        "        self.heal_power = heal_power\n",
        "        self.special_power = special_power\n",
        "        self.special_ready = True\n",
        "\n",
        "    def attack(self, target):\n",
        "        dmg = random.randint(self.atk//2, self.atk)\n",
        "        target.hp = max(target.hp - dmg, 0)\n",
        "        return dmg\n",
        "\n",
        "    def heal(self):\n",
        "        amount = random.randint(self.heal_power//2, self.heal_power)\n",
        "        self.hp = min(self.max_hp, self.hp + amount)\n",
        "        return amount\n",
        "\n",
        "    def special(self, target):\n",
        "        if not self.special_ready:\n",
        "            return 0\n",
        "        dmg = random.randint(self.special_power//2, self.special_power)\n",
        "        target.hp = max(target.hp - dmg, 0)\n",
        "        self.special_ready = False\n",
        "        return dmg\n",
        "\n",
        "# Game loop\n",
        "def play_battle(sid=\"325017\"):\n",
        "    seed_from_id(sid)\n",
        "    player = Fighter(\"Sommelier\", hp=100, atk=15, heal_power=20, special_power=40)\n",
        "    enemy  = Fighter(\"Quality Critter\", hp=100, atk=12, heal_power=0, special_power=0)\n",
        "    turn = 1\n",
        "\n",
        "    print(\"\\n🍇 Battle of the Vines 🍷\")\n",
        "    print(\"Defeat the Quality Critter or perish!\\n\")\n",
        "    time.sleep(1)\n",
        "\n",
        "    while player.hp > 0 and enemy.hp > 0:\n",
        "        print(f\"--- Turn {turn} ---\")\n",
        "        print(f\"{player.name}: {player.hp}/{player.max_hp} HP\"\n",
        "              f\"   {enemy.name}: {enemy.hp}/{enemy.max_hp} HP\\n\")\n",
        "        print(\"Choose your action:\")\n",
        "        print(\"  1) Attack\")\n",
        "        print(\"  2) Heal\")\n",
        "        print(\"  3) Special 🍇 (once per battle)\")\n",
        "        choice = input(\"> \").strip()\n",
        "\n",
        "        if choice == \"1\":\n",
        "            dmg = player.attack(enemy)\n",
        "            print(f\"✅ You attack and deal {dmg} damage!\")\n",
        "        elif choice == \"2\":\n",
        "            amt = player.heal()\n",
        "            print(f\"💖 You heal for {amt} HP!\")\n",
        "        elif choice == \"3\":\n",
        "            if player.special_ready:\n",
        "                dmg = player.special(enemy)\n",
        "                print(f\"🌟 You unleash a special crush for {dmg} damage!\")\n",
        "            else:\n",
        "                print(\"🚫 Special not ready—you lose your turn!\")\n",
        "        else:\n",
        "            print(\"❌ Invalid choice—turn skipped.\")\n",
        "\n",
        "        # Enemy turn if still alive\n",
        "        if enemy.hp > 0:\n",
        "            edmg = enemy.attack(player)\n",
        "            print(f\"😈 The Critter strikes back for {edmg} damage!\")\n",
        "\n",
        "        print()\n",
        "        time.sleep(1.2)\n",
        "        turn += 1\n",
        "\n",
        "    # Outcome\n",
        "    if player.hp > 0:\n",
        "        print(\"🎉 You’ve bottled up the Critter! You win!\")\n",
        "    else:\n",
        "        print(\"💀 You’ve been corked by the Critter. Game over.\")\n",
        "\n",
        "if __name__ == \"__main__\":\n",
        "    play_battle(\"325017\")"
      ],
      "metadata": {
        "colab": {
          "base_uri": "https://localhost:8080/"
        },
        "id": "pbopum6Zajns",
        "outputId": "348c41ce-645e-4393-eba4-e2c3176efdeb"
      },
      "execution_count": null,
      "outputs": [
        {
          "output_type": "stream",
          "name": "stdout",
          "text": [
            "\n",
            "🍇 Battle of the Vines 🍷\n",
            "Defeat the Quality Critter or perish!\n",
            "\n",
            "--- Turn 1 ---\n",
            "Sommelier: 100/100 HP   Quality Critter: 100/100 HP\n",
            "\n",
            "Choose your action:\n",
            "  1) Attack\n",
            "  2) Heal\n",
            "  3) Special 🍇 (once per battle)\n"
          ]
        }
      ]
    }
  ]
}